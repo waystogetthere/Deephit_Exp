{
 "cells": [
  {
   "cell_type": "code",
   "execution_count": 1,
   "metadata": {},
   "outputs": [],
   "source": [
    "import Function as f"
   ]
  },
  {
   "cell_type": "code",
   "execution_count": 2,
   "metadata": {},
   "outputs": [],
   "source": [
    "import numpy as np\n",
    "import pandas as pd"
   ]
  },
  {
   "cell_type": "code",
   "execution_count": 3,
   "metadata": {},
   "outputs": [],
   "source": [
    "NUM_SAMPLES = 500\n",
    "NUM_TRAIN = int(NUM_SAMPLES * 0.9)\n",
    "NUM_VAL = int(NUM_SAMPLES * 0.1)\n",
    "Epsilons = [10,10]\n",
    "NUM_FEATURES = 5"
   ]
  },
  {
   "cell_type": "code",
   "execution_count": 4,
   "metadata": {},
   "outputs": [],
   "source": [
    "np.random.seed(NUM_SAMPLES)"
   ]
  },
  {
   "cell_type": "code",
   "execution_count": 5,
   "metadata": {},
   "outputs": [],
   "source": [
    "X, Y, survival_times = f.Generating_Synthetic_Set(NUM_SAMPLES, NUM_FEATURES, Epsilons, bias = False)"
   ]
  },
  {
   "cell_type": "markdown",
   "metadata": {},
   "source": [
    "Discard the top 5% longevity training samples"
   ]
  },
  {
   "cell_type": "code",
   "execution_count": 6,
   "metadata": {},
   "outputs": [],
   "source": [
    "five_percent = int(len(survival_times) * 0.05)\n",
    "five_percent_indices = np.argsort(survival_times)[(-1) * five_percent:]\n",
    "threshold_age = survival_times[five_percent_indices[0]]\n",
    "for i in five_percent_indices:\n",
    "    while(True):\n",
    "        Epsilon_1, Epsilon_2 = Epsilons\n",
    "        _lambda = Epsilon_1 * np.sum(X[i, :] ** 2) + Epsilon_2 * np.sum(X[i, :])\n",
    "        age = np.ceil(np.random.exponential(_lambda, size=1))\n",
    "        if age <= threshold_age:\n",
    "            survival_times[i] = age\n",
    "            break\n",
    "NUM_TASKS = int(np.max(survival_times))\n",
    "Y = np.ones((NUM_SAMPLES, NUM_TASKS))\n",
    "# the lifetime matrix of all samples, if one sample leave at the time interval k, then from Y[i,k](inlcude)  all follwoed entries are -1\n",
    "for i in range(NUM_SAMPLES):\n",
    "    Y[i, int(survival_times[i]):] = -1"
   ]
  },
  {
   "cell_type": "code",
   "execution_count": 7,
   "metadata": {},
   "outputs": [],
   "source": [
    "Kernel_Matrix = f.Generating_Kernel(X, \"Quick_Gaussian_Kernel\")\n",
    "Kernel_Matrix_Train = Kernel_Matrix[:NUM_TRAIN,:NUM_TRAIN]\n",
    "Kernel_Matrix_Val = Kernel_Matrix[NUM_TRAIN:,:NUM_TRAIN]"
   ]
  },
  {
   "cell_type": "code",
   "execution_count": 8,
   "metadata": {},
   "outputs": [
    {
     "name": "stdout",
     "output_type": "stream",
     "text": [
      "There are  89988 pairs of samples of similarity between 0.0 and 0.1 which have an average age_gap  58.64584166777792 and the median is: 43.0\n",
      "There are  55208 pairs of samples of similarity between 0.1 and 0.2 which have an average age_gap  48.67809013186495 and the median is: 32.0\n",
      "There are  36920 pairs of samples of similarity between 0.2 and 0.3 which have an average age_gap  45.3409534127844 and the median is: 29.0\n",
      "There are  25398 pairs of samples of similarity between 0.3 and 0.4 which have an average age_gap  42.768406961178044 and the median is: 26.0\n",
      "There are  17476 pairs of samples of similarity between 0.4 and 0.5 which have an average age_gap  41.237010757610435 and the median is: 25.0\n",
      "There are  11506 pairs of samples of similarity between 0.5 and 0.6 which have an average age_gap  39.38397357900226 and the median is: 24.0\n",
      "There are  6998 pairs of samples of similarity between 0.6 and 0.7 which have an average age_gap  37.706201771934836 and the median is: 22.0\n",
      "There are  3898 pairs of samples of similarity between 0.7 and 0.8 which have an average age_gap  37.17239610056439 and the median is: 23.0\n",
      "There are  1712 pairs of samples of similarity between 0.8 and 0.9 which have an average age_gap  35.09696261682243 and the median is: 21.5\n",
      "There are  849 pairs of samples of similarity between 0.9 and 1.0 which have an average age_gap  15.976442873969376 and the median is: 0.0\n"
     ]
    },
    {
     "data": {
      "image/png": "[encoded data removed]",
      "text/plain": [
       "<Figure size 432x288 with 1 Axes>"
      ]
     },
     "metadata": {
      "needs_background": "light"
     },
     "output_type": "display_data"
    }
   ],
   "source": [
    "f.Validate_Synthetic_DataSet(Kernel_Matrix, survival_times)"
   ]
  },
  {
   "cell_type": "code",
   "execution_count": 9,
   "metadata": {},
   "outputs": [
    {
     "name": "stdout",
     "output_type": "stream",
     "text": [
      "212.0\n"
     ]
    }
   ],
   "source": [
    "print(max(survival_times))"
   ]
  },
  {
   "cell_type": "code",
   "execution_count": 10,
   "metadata": {},
   "outputs": [],
   "source": [
    "covairates_survivaltimes = np.concatenate((X, survival_times[:,np.newaxis]),axis = 1)\n",
    "cov_st_censored = np.concatenate((covairates_survivaltimes, np.ones((NUM_SAMPLES,1))),axis = 1)\n",
    "bias_cov_st_censored = np.concatenate((np.ones((NUM_SAMPLES,1)), cov_st_censored),axis = 1)"
   ]
  },
  {
   "cell_type": "code",
   "execution_count": 11,
   "metadata": {},
   "outputs": [],
   "source": [
    "df = pd.DataFrame(cov_st_censored)\n",
    "if NUM_FEATURES == 3:\n",
    "    df.columns = ['cov0', 'cov1','cov2','survival_time','censored']\n",
    "if NUM_FEATURES == 5:\n",
    "    df.columns = ['cov0', 'cov1','cov2','cov3','cov4','survival_time','censored']\n",
    "elif NUM_FEATURES == 10:\n",
    "    df.columns = ['cov0', 'cov1','cov2','cov3', 'cov4', 'cov5', 'cov6','cov7', 'cov8', 'cov9','survival_time','censored']\n",
    "\n",
    "file_name = str(NUM_SAMPLES) + \"(\"+str(NUM_TRAIN) + \"+\" + str(NUM_VAL) + \")\"+ str(NUM_FEATURES) + \".csv\"\n",
    "df.to_csv(file_name)"
   ]
  },
  {
   "cell_type": "code",
   "execution_count": null,
   "metadata": {},
   "outputs": [],
   "source": []
  },
  {
   "cell_type": "code",
   "execution_count": null,
   "metadata": {},
   "outputs": [],
   "source": []
  }
 ],
 "metadata": {
  "kernelspec": {
   "display_name": "Python 3",
   "language": "python",
   "name": "python3"
  },
  "language_info": {
   "codemirror_mode": {
    "name": "ipython",
    "version": 3
   },
   "file_extension": ".py",
   "mimetype": "text/x-python",
   "name": "python",
   "nbconvert_exporter": "python",
   "pygments_lexer": "ipython3",
   "version": "3.7.4"
  }
 },
 "nbformat": 4,
 "nbformat_minor": 2
}
