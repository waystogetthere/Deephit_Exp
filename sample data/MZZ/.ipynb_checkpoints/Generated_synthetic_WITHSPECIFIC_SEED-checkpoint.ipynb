{
 "cells": [
  {
   "cell_type": "code",
   "execution_count": 1,
   "metadata": {},
   "outputs": [],
   "source": [
    "import Function as f"
   ]
  },
  {
   "cell_type": "code",
   "execution_count": 2,
   "metadata": {},
   "outputs": [],
   "source": [
    "import numpy as np\n",
    "import pandas as pd"
   ]
  },
  {
   "cell_type": "code",
   "execution_count": 3,
   "metadata": {},
   "outputs": [],
   "source": [
    "NUM_SAMPLES = 10000\n",
    "NUM_TRAIN = int(NUM_SAMPLES * 0.9)\n",
    "NUM_VAL = int(NUM_SAMPLES * 0.1)\n",
    "Epsilons = [10,10]\n",
    "NUM_FEATURES = 5"
   ]
  },
  {
   "cell_type": "code",
   "execution_count": 4,
   "metadata": {},
   "outputs": [],
   "source": [
    "np.random.seed(NUM_SAMPLES)"
   ]
  },
  {
   "cell_type": "code",
   "execution_count": 5,
   "metadata": {},
   "outputs": [],
   "source": [
    "X, Y, survival_times = f.Generating_Synthetic_Set(NUM_SAMPLES, NUM_FEATURES, Epsilons, bias = False)"
   ]
  },
  {
   "cell_type": "markdown",
   "metadata": {},
   "source": [
    "Discard the top 5% longevity training samples"
   ]
  },
  {
   "cell_type": "code",
   "execution_count": 6,
   "metadata": {},
   "outputs": [],
   "source": [
    "five_percent = int(len(survival_times) * 0.05)\n",
    "five_percent_indices = np.argsort(survival_times)[(-1) * five_percent:]\n",
    "threshold_age = survival_times[five_percent_indices[0]]\n",
    "for i in five_percent_indices:\n",
    "    while(True):\n",
    "        Epsilon_1, Epsilon_2 = Epsilons\n",
    "        _lambda = Epsilon_1 * np.sum(X[i, :] ** 2) + Epsilon_2 * np.sum(X[i, :])\n",
    "        age = np.ceil(np.random.exponential(_lambda, size=1))\n",
    "        if age <= threshold_age:\n",
    "            survival_times[i] = age\n",
    "            break\n",
    "NUM_TASKS = int(np.max(survival_times))\n",
    "Y = np.ones((NUM_SAMPLES, NUM_TASKS))\n",
    "# the lifetime matrix of all samples, if one sample leave at the time interval k, then from Y[i,k](inlcude)  all follwoed entries are -1\n",
    "for i in range(NUM_SAMPLES):\n",
    "    Y[i, int(survival_times[i]):] = -1"
   ]
  },
  {
   "cell_type": "code",
   "execution_count": 7,
   "metadata": {},
   "outputs": [],
   "source": [
    "Kernel_Matrix = f.Generating_Kernel(X, \"Quick_Gaussian_Kernel\")\n",
    "Kernel_Matrix_Train = Kernel_Matrix[:NUM_TRAIN,:NUM_TRAIN]\n",
    "Kernel_Matrix_Val = Kernel_Matrix[NUM_TRAIN:,:NUM_TRAIN]"
   ]
  },
  {
   "cell_type": "code",
   "execution_count": 8,
   "metadata": {},
   "outputs": [
    {
     "name": "stdout",
     "output_type": "stream",
     "text": [
      "There are  34276072 pairs of samples of similarity between 0.0 and 0.1 which have an average age_gap  51.416585774472644 and the median is: 39.0\n",
      "There are  21720620 pairs of samples of similarity between 0.1 and 0.2 which have an average age_gap  44.78646042332125 and the median is: 32.0\n",
      "There are  15087260 pairs of samples of similarity between 0.2 and 0.3 which have an average age_gap  41.04054069459929 and the median is: 28.0\n",
      "There are  10618812 pairs of samples of similarity between 0.3 and 0.4 which have an average age_gap  38.35251702356158 and the median is: 25.0\n",
      "There are  7390466 pairs of samples of similarity between 0.4 and 0.5 which have an average age_gap  36.27331537686528 and the median is: 23.0\n",
      "There are  4978060 pairs of samples of similarity between 0.5 and 0.6 which have an average age_gap  34.39331345946011 and the median is: 22.0\n",
      "There are  3159988 pairs of samples of similarity between 0.6 and 0.7 which have an average age_gap  32.617419433238354 and the median is: 20.0\n",
      "There are  1792898 pairs of samples of similarity between 0.7 and 0.8 which have an average age_gap  30.784539890166645 and the median is: 19.0\n",
      "There are  799818 pairs of samples of similarity between 0.8 and 0.9 which have an average age_gap  28.791442553180847 and the median is: 17.0\n",
      "There are  174910 pairs of samples of similarity between 0.9 and 1.0 which have an average age_gap  25.446926991023954 and the median is: 14.0\n"
     ]
    },
    {
     "data": {
      "image/png": "[encoded data removed]",
      "text/plain": [
       "<Figure size 432x288 with 1 Axes>"
      ]
     },
     "metadata": {
      "needs_background": "light"
     },
     "output_type": "display_data"
    }
   ],
   "source": [
    "f.Validate_Synthetic_DataSet(Kernel_Matrix, survival_times)"
   ]
  },
  {
   "cell_type": "code",
   "execution_count": 9,
   "metadata": {},
   "outputs": [
    {
     "name": "stdout",
     "output_type": "stream",
     "text": [
      "190.0\n"
     ]
    }
   ],
   "source": [
    "print(max(survival_times))"
   ]
  },
  {
   "cell_type": "code",
   "execution_count": 10,
   "metadata": {},
   "outputs": [],
   "source": [
    "covairates_survivaltimes = np.concatenate((X, survival_times[:,np.newaxis]),axis = 1)\n",
    "cov_st_censored = np.concatenate((covairates_survivaltimes, np.ones((NUM_SAMPLES,1))),axis = 1)\n",
    "bias_cov_st_censored = np.concatenate((np.ones((NUM_SAMPLES,1)), cov_st_censored),axis = 1)"
   ]
  },
  {
   "cell_type": "code",
   "execution_count": 11,
   "metadata": {},
   "outputs": [],
   "source": [
    "df = pd.DataFrame(cov_st_censored)\n",
    "if NUM_FEATURES == 3:\n",
    "    df.columns = ['cov0', 'cov1','cov2','survival_time','censored']\n",
    "if NUM_FEATURES == 5:\n",
    "    df.columns = ['cov0', 'cov1','cov2','cov3','cov4','survival_time','censored']\n",
    "elif NUM_FEATURES == 10:\n",
    "    df.columns = ['cov0', 'cov1','cov2','cov3', 'cov4', 'cov5', 'cov6','cov7', 'cov8', 'cov9','survival_time','censored']\n",
    "\n",
    "file_name = str(NUM_SAMPLES) + \"(\"+str(NUM_TRAIN) + \"+\" + str(NUM_VAL) + \")\"+ str(NUM_FEATURES) + \".csv\"\n",
    "df.to_csv(file_name)"
   ]
  },
  {
   "cell_type": "code",
   "execution_count": null,
   "metadata": {},
   "outputs": [],
   "source": []
  },
  {
   "cell_type": "code",
   "execution_count": null,
   "metadata": {},
   "outputs": [],
   "source": []
  }
 ],
 "metadata": {
  "kernelspec": {
   "display_name": "Python 3",
   "language": "python",
   "name": "python3"
  },
  "language_info": {
   "codemirror_mode": {
    "name": "ipython",
    "version": 3
   },
   "file_extension": ".py",
   "mimetype": "text/x-python",
   "name": "python",
   "nbconvert_exporter": "python",
   "pygments_lexer": "ipython3",
   "version": "3.7.4"
  }
 },
 "nbformat": 4,
 "nbformat_minor": 2
}
